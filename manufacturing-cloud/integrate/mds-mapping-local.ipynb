{
 "cells": [
  {
   "cell_type": "markdown",
   "id": "c3d94679",
   "metadata": {},
   "source": [
    "## How to use in Local?\n",
    "\n",
    "This notebook reads the raw data from given input directory and writes transformed data to given output directory.\n",
    "\n",
    "1. Import repo to your local folder.\n",
    "2. Be sure that you have a valid python environment with the necesserary packages.\n",
    "3. Run the notebook.\n"
   ]
  },
  {
   "cell_type": "markdown",
   "id": "aa896d31",
   "metadata": {},
   "source": [
    "## Imports"
   ]
  },
  {
   "cell_type": "code",
   "execution_count": null,
   "id": "da4bf1c1",
   "metadata": {},
   "outputs": [],
   "source": [
    "import os\n",
    "import helpers.transform as transform\n",
    "import helpers.create_config as create_config\n",
    "import pandas as pd"
   ]
  },
  {
   "cell_type": "markdown",
   "id": "a98d5428",
   "metadata": {},
   "source": [
    "## Input and Output Directories"
   ]
  },
  {
   "cell_type": "code",
   "execution_count": null,
   "id": "eba5a1d9",
   "metadata": {},
   "outputs": [],
   "source": [
    " # INPUT DATA LOCATION\n",
    "INPUT_DATA_FOLDER = \"data/raw\"\n",
    "\n",
    "# DTDL FOLDER\n",
    "ENTITY_PATH = \"../../Appendix/Entities/\"\n",
    "\n",
    "# CONFIG LOCATION\n",
    "CONFIG_FOLDER = \"config\"\n",
    "\n",
    "# OUTPUT DATA LOCATION\n",
    "OUTPUT_DATA_FOLDER = \"data/transformed\""
   ]
  },
  {
   "cell_type": "code",
   "execution_count": null,
   "id": "38d774c9",
   "metadata": {},
   "outputs": [],
   "source": [
    "EXCEL_MAPPING_FILE = f\"{CONFIG_FOLDER}/conceptual_mapping.xlsx\"\n",
    "OUTPUT_MAPPING_FOLDER = f\"{OUTPUT_DATA_FOLDER}/mapping\"\n",
    "CONFIG_FILE = f\"{CONFIG_FOLDER}/config.json\"\n",
    "\n",
    "\n",
    "# CREATE THE OUTPUT FOLDER IF NOT EXISTING\n",
    "if not os.path.exists(OUTPUT_MAPPING_FOLDER):\n",
    "    os.makedirs(OUTPUT_MAPPING_FOLDER)\n",
    "if not os.path.exists(CONFIG_FOLDER):\n",
    "    os.makedirs(CONFIG_FOLDER)"
   ]
  },
  {
   "cell_type": "markdown",
   "id": "668ddf5d",
   "metadata": {},
   "source": [
    "## Creating Configuration File"
   ]
  },
  {
   "cell_type": "code",
   "execution_count": null,
   "id": "d40cf1aa",
   "metadata": {},
   "outputs": [],
   "source": [
    "config_dictionary = create_config.create_entity_mappings_config(EXCEL_MAPPING_FILE)\n",
    "config_dictionary = create_config.create_relationship_mappings_config(EXCEL_MAPPING_FILE, config_dictionary)\n",
    "create_config.write_config_json(config_dictionary, CONFIG_FILE)"
   ]
  },
  {
   "cell_type": "markdown",
   "id": "7aadf6ef-2da7-4b40-9486-104c84710e50",
   "metadata": {},
   "source": [
    "### Extracting Variables from Config"
   ]
  },
  {
   "cell_type": "code",
   "execution_count": null,
   "id": "7348577e-2d67-4c40-bc43-76c728f60012",
   "metadata": {},
   "outputs": [],
   "source": [
    "df = pd.read_json(CONFIG_FILE, typ=\"series\")\n",
    "ENTITY_LIST = df['entity_list']\n",
    "RELATIONSHIP_LIST = df['relationship_list']"
   ]
  },
  {
   "cell_type": "markdown",
   "id": "ec959034",
   "metadata": {},
   "source": [
    "## Transform the raw data"
   ]
  },
  {
   "cell_type": "code",
   "execution_count": null,
   "id": "8a699085",
   "metadata": {},
   "outputs": [],
   "source": [
    "transform.cache_entity_metadata(ENTITY_LIST, ENTITY_PATH)\n",
    "transform.write_entity_data(INPUT_DATA_FOLDER, OUTPUT_DATA_FOLDER, OUTPUT_MAPPING_FOLDER, ENTITY_LIST, RELATIONSHIP_LIST)"
   ]
  }
 ]
}
