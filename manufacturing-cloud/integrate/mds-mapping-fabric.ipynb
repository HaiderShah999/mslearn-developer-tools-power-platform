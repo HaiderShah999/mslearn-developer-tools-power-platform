{
 "cells": [
  {
   "cell_type": "markdown",
   "id": "3172b6ad-2a9c-414b-9ed3-bb04b2d09e15",
   "metadata": {},
   "source": [
    "##  How to use in Fabric? "
   ]
  },
  {
   "cell_type": "markdown",
   "id": "2e3febae",
   "metadata": {},
   "source": [
    "This notebook reads the raw data from Bronze Lakehouse and writes transformed data to Silver Lakehouse.\n",
    "\n",
    "1. Create your Bronze and Silver Lakehouses in your fabric environment. \n",
    "2. Create the mds-mapping-fabric.ipynb notebook in your fabric environment.\n",
    "3. Upload the raw data, the conceptual_mapping.xlsx, Appendix/Entities into Bronze Lakehouse. Folder structire should look like this:\n",
    "    - BronzeLakehouse\n",
    "        * Files\n",
    "            - raw\n",
    "                * Bakery CSVs\n",
    "            - config\n",
    "                * conceptual_mapping.xlsx\n",
    "            - Appendix\n",
    "                * Entities/\n",
    "4. Add Bronze and Silver Lakehouses to your notebook.\n",
    "5. Add create_config.py and transform.py as Built-in resources.\n",
    "7. Change *silver_base_path* to your absolute path of Silver Lakehouse.\n",
    "8. Change *bronze_base_path* to your absolute path of Bronze Lakehouse.\n",
    "9. Run the notebook."
   ]
  },
  {
   "cell_type": "markdown",
   "id": "81ab1a8a",
   "metadata": {},
   "source": [
    "## Imports"
   ]
  },
  {
   "cell_type": "code",
   "execution_count": null,
   "id": "19cb0501-4798-4283-86b8-c8bb72d65040",
   "metadata": {},
   "outputs": [],
   "source": [
    "import pandas as pd\n",
    "import os\n",
    "from notebookutils import mssparkutils\n",
    "import builtin.transform as transform\n",
    "import builtin.create_config as create_config"
   ]
  },
  {
   "cell_type": "markdown",
   "id": "577e6cdb-c3a7-47f0-868e-24672a3301a6",
   "metadata": {},
   "source": [
    "## Input and Output Directories"
   ]
  },
  {
   "cell_type": "markdown",
   "id": "aa896d31",
   "metadata": {},
   "source": [
    "*EDIT THE SILVER AND BRONZE BASE PATHS*"
   ]
  },
  {
   "cell_type": "code",
   "execution_count": null,
   "id": "eba5a1d9",
   "metadata": {},
   "outputs": [],
   "source": [
    "bronze_mount_name = \"/Bronze\"\n",
    "silver_mount_name = \"/Silver\"\n",
    "bronze_base_path = \"<ABSOLUTE PATH OF BRONZE LAKEHOUSE>\"\n",
    "silver_base_path = \"<ABSOLUTE PATH OF SILVER LAKEHOUSE>\"\n",
    "mssparkutils.fs.mount(bronze_base_path, bronze_mount_name)\n",
    "mssparkutils.fs.mount(silver_base_path, silver_mount_name)\n",
    "mount_points = mssparkutils.fs.mounts()\n",
    "\n",
    "bronze_path = next((mp[\"localPath\"] for mp in mount_points if mp[\"mountPoint\"] == bronze_mount_name), None)\n",
    "silver_path = next((mp[\"localPath\"] for mp in mount_points if mp[\"mountPoint\"] == silver_mount_name), None)\n",
    "\n",
    "# INPUT DATA FOLDER\n",
    "INPUT_DATA_FOLDER = f\"{bronze_path}/Files/raw\" \n",
    "\n",
    "# DTDL FOLDER\n",
    "ENTITY_PATH = f\"{bronze_path}/Files/Appendix/Entities/\"\n",
    "\n",
    "# CONFIG LOCATION\n",
    "CONFIG_FOLDER = f\"{bronze_path}/Files/config\"\n",
    "\n",
    "# OUTPUT DATA FOLDER\n",
    "OUTPUT_DATA_FOLDER = f\"{silver_path}/Files\""
   ]
  },
  {
   "cell_type": "code",
   "execution_count": null,
   "id": "38d774c9",
   "metadata": {},
   "outputs": [],
   "source": [
    "EXCEL_MAPPING_FILE = f\"{CONFIG_FOLDER}/conceptual_mapping.xlsx\"\n",
    "OUTPUT_MAPPING_FOLDER = f\"{OUTPUT_DATA_FOLDER}/mapping\"\n",
    "CONFIG_FILE = f\"{CONFIG_FOLDER}/config.json\"\n",
    "\n",
    "\n",
    "# CREATE THE OUTPUT FOLDER IF NOT EXISTING\n",
    "if not os.path.exists(OUTPUT_MAPPING_FOLDER):\n",
    "    os.makedirs(OUTPUT_MAPPING_FOLDER)\n",
    "if not os.path.exists(CONFIG_FOLDER):\n",
    "    os.makedirs(CONFIG_FOLDER)"
   ]
  },
  {
   "cell_type": "markdown",
   "id": "668ddf5d",
   "metadata": {},
   "source": [
    "## Creating Configuration File"
   ]
  },
  {
   "cell_type": "code",
   "execution_count": null,
   "id": "d40cf1aa",
   "metadata": {},
   "outputs": [],
   "source": [
    "config_dictionary = create_config.create_entity_mappings_config(EXCEL_MAPPING_FILE)\n",
    "config_dictionary = create_config.create_relationship_mappings_config(EXCEL_MAPPING_FILE, config_dictionary)\n",
    "create_config.write_config_json(config_dictionary, CONFIG_FILE)"
   ]
  },
  {
   "cell_type": "markdown",
   "id": "7aadf6ef-2da7-4b40-9486-104c84710e50",
   "metadata": {},
   "source": [
    "### Extracting Variables from Config"
   ]
  },
  {
   "cell_type": "code",
   "execution_count": null,
   "id": "7348577e-2d67-4c40-bc43-76c728f60012",
   "metadata": {},
   "outputs": [],
   "source": [
    "df = pd.read_json(CONFIG_FILE, typ=\"series\")\n",
    "ENTITY_LIST = df['entity_list']\n",
    "RELATIONSHIP_LIST = df['relationship_list']"
   ]
  },
  {
   "cell_type": "markdown",
   "id": "ec959034",
   "metadata": {},
   "source": [
    "## Transform the raw data"
   ]
  },
  {
   "cell_type": "code",
   "execution_count": null,
   "id": "4334eb25-eec0-478e-8d0a-6fb24da594d9",
   "metadata": {},
   "outputs": [],
   "source": [
    "transform.cache_entity_metadata(ENTITY_LIST, ENTITY_PATH)\n",
    "transform.write_entity_data(INPUT_DATA_FOLDER, OUTPUT_DATA_FOLDER, OUTPUT_MAPPING_FOLDER, ENTITY_LIST, RELATIONSHIP_LIST)"
   ]
  }
 ]
}
